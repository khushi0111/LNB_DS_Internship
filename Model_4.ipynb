{
  "nbformat": 4,
  "nbformat_minor": 0,
  "metadata": {
    "colab": {
      "name": "Model 4.ipynb",
      "provenance": [],
      "collapsed_sections": [],
      "authorship_tag": "ABX9TyMts7AGzb8G85TAs58x3btN",
      "include_colab_link": true
    },
    "kernelspec": {
      "name": "python3",
      "display_name": "Python 3"
    },
    "language_info": {
      "name": "python"
    }
  },
  "cells": [
    {
      "cell_type": "markdown",
      "metadata": {
        "id": "view-in-github",
        "colab_type": "text"
      },
      "source": [
        "<a href=\"https://colab.research.google.com/github/khushi0111/LNB_DS_Internship/blob/main/Model_4.ipynb\" target=\"_parent\"><img src=\"https://colab.research.google.com/assets/colab-badge.svg\" alt=\"Open In Colab\"/></a>"
      ]
    },
    {
      "cell_type": "markdown",
      "source": [
        "DS404 Khushi Agarwal"
      ],
      "metadata": {
        "id": "xhM0Y4ODn8ct"
      }
    },
    {
      "cell_type": "markdown",
      "source": [
        "BREAST CANCER DATASET (Breast Cancer Prediction)"
      ],
      "metadata": {
        "id": "2oK1BkXfkZiI"
      }
    },
    {
      "cell_type": "code",
      "execution_count": 4,
      "metadata": {
        "id": "s-x9X92qsN5a"
      },
      "outputs": [],
      "source": [
        "import pandas as pd\n",
        "import numpy as np\n",
        "import matplotlib.pyplot as plt\n",
        "import seaborn as sns"
      ]
    },
    {
      "cell_type": "code",
      "source": [
        "url=\"https://drive.google.com/file/d/1F6E8y4nl4v61Hka1jMmgptgCN17z6iLy/view?usp=sharing\"\n",
        "url='https://drive.google.com/uc?id=' + url.split('/')[-2]\n",
        "df = pd.read_csv(url)"
      ],
      "metadata": {
        "id": "udRvUOQKhpY6"
      },
      "execution_count": 5,
      "outputs": []
    },
    {
      "cell_type": "code",
      "source": [
        "df.head(10)"
      ],
      "metadata": {
        "colab": {
          "base_uri": "https://localhost:8080/",
          "height": 363
        },
        "id": "iYI2rA6FksEp",
        "outputId": "44a4310f-db9e-4e5a-d580-bb041c46feb5"
      },
      "execution_count": 6,
      "outputs": [
        {
          "output_type": "execute_result",
          "data": {
            "text/plain": [
              "   mean_radius  mean_texture  mean_perimeter  mean_area  mean_smoothness  \\\n",
              "0        17.99         10.38          122.80     1001.0          0.11840   \n",
              "1        20.57         17.77          132.90     1326.0          0.08474   \n",
              "2        19.69         21.25          130.00     1203.0          0.10960   \n",
              "3        11.42         20.38           77.58      386.1          0.14250   \n",
              "4        20.29         14.34          135.10     1297.0          0.10030   \n",
              "5        12.45         15.70           82.57      477.1          0.12780   \n",
              "6        18.25         19.98          119.60     1040.0          0.09463   \n",
              "7        13.71         20.83           90.20      577.9          0.11890   \n",
              "8        13.00         21.82           87.50      519.8          0.12730   \n",
              "9        12.46         24.04           83.97      475.9          0.11860   \n",
              "\n",
              "   diagnosis  \n",
              "0          0  \n",
              "1          0  \n",
              "2          0  \n",
              "3          0  \n",
              "4          0  \n",
              "5          0  \n",
              "6          0  \n",
              "7          0  \n",
              "8          0  \n",
              "9          0  "
            ],
            "text/html": [
              "\n",
              "  <div id=\"df-210a8552-0cab-4b42-8714-82a8c81636b6\">\n",
              "    <div class=\"colab-df-container\">\n",
              "      <div>\n",
              "<style scoped>\n",
              "    .dataframe tbody tr th:only-of-type {\n",
              "        vertical-align: middle;\n",
              "    }\n",
              "\n",
              "    .dataframe tbody tr th {\n",
              "        vertical-align: top;\n",
              "    }\n",
              "\n",
              "    .dataframe thead th {\n",
              "        text-align: right;\n",
              "    }\n",
              "</style>\n",
              "<table border=\"1\" class=\"dataframe\">\n",
              "  <thead>\n",
              "    <tr style=\"text-align: right;\">\n",
              "      <th></th>\n",
              "      <th>mean_radius</th>\n",
              "      <th>mean_texture</th>\n",
              "      <th>mean_perimeter</th>\n",
              "      <th>mean_area</th>\n",
              "      <th>mean_smoothness</th>\n",
              "      <th>diagnosis</th>\n",
              "    </tr>\n",
              "  </thead>\n",
              "  <tbody>\n",
              "    <tr>\n",
              "      <th>0</th>\n",
              "      <td>17.99</td>\n",
              "      <td>10.38</td>\n",
              "      <td>122.80</td>\n",
              "      <td>1001.0</td>\n",
              "      <td>0.11840</td>\n",
              "      <td>0</td>\n",
              "    </tr>\n",
              "    <tr>\n",
              "      <th>1</th>\n",
              "      <td>20.57</td>\n",
              "      <td>17.77</td>\n",
              "      <td>132.90</td>\n",
              "      <td>1326.0</td>\n",
              "      <td>0.08474</td>\n",
              "      <td>0</td>\n",
              "    </tr>\n",
              "    <tr>\n",
              "      <th>2</th>\n",
              "      <td>19.69</td>\n",
              "      <td>21.25</td>\n",
              "      <td>130.00</td>\n",
              "      <td>1203.0</td>\n",
              "      <td>0.10960</td>\n",
              "      <td>0</td>\n",
              "    </tr>\n",
              "    <tr>\n",
              "      <th>3</th>\n",
              "      <td>11.42</td>\n",
              "      <td>20.38</td>\n",
              "      <td>77.58</td>\n",
              "      <td>386.1</td>\n",
              "      <td>0.14250</td>\n",
              "      <td>0</td>\n",
              "    </tr>\n",
              "    <tr>\n",
              "      <th>4</th>\n",
              "      <td>20.29</td>\n",
              "      <td>14.34</td>\n",
              "      <td>135.10</td>\n",
              "      <td>1297.0</td>\n",
              "      <td>0.10030</td>\n",
              "      <td>0</td>\n",
              "    </tr>\n",
              "    <tr>\n",
              "      <th>5</th>\n",
              "      <td>12.45</td>\n",
              "      <td>15.70</td>\n",
              "      <td>82.57</td>\n",
              "      <td>477.1</td>\n",
              "      <td>0.12780</td>\n",
              "      <td>0</td>\n",
              "    </tr>\n",
              "    <tr>\n",
              "      <th>6</th>\n",
              "      <td>18.25</td>\n",
              "      <td>19.98</td>\n",
              "      <td>119.60</td>\n",
              "      <td>1040.0</td>\n",
              "      <td>0.09463</td>\n",
              "      <td>0</td>\n",
              "    </tr>\n",
              "    <tr>\n",
              "      <th>7</th>\n",
              "      <td>13.71</td>\n",
              "      <td>20.83</td>\n",
              "      <td>90.20</td>\n",
              "      <td>577.9</td>\n",
              "      <td>0.11890</td>\n",
              "      <td>0</td>\n",
              "    </tr>\n",
              "    <tr>\n",
              "      <th>8</th>\n",
              "      <td>13.00</td>\n",
              "      <td>21.82</td>\n",
              "      <td>87.50</td>\n",
              "      <td>519.8</td>\n",
              "      <td>0.12730</td>\n",
              "      <td>0</td>\n",
              "    </tr>\n",
              "    <tr>\n",
              "      <th>9</th>\n",
              "      <td>12.46</td>\n",
              "      <td>24.04</td>\n",
              "      <td>83.97</td>\n",
              "      <td>475.9</td>\n",
              "      <td>0.11860</td>\n",
              "      <td>0</td>\n",
              "    </tr>\n",
              "  </tbody>\n",
              "</table>\n",
              "</div>\n",
              "      <button class=\"colab-df-convert\" onclick=\"convertToInteractive('df-210a8552-0cab-4b42-8714-82a8c81636b6')\"\n",
              "              title=\"Convert this dataframe to an interactive table.\"\n",
              "              style=\"display:none;\">\n",
              "        \n",
              "  <svg xmlns=\"http://www.w3.org/2000/svg\" height=\"24px\"viewBox=\"0 0 24 24\"\n",
              "       width=\"24px\">\n",
              "    <path d=\"M0 0h24v24H0V0z\" fill=\"none\"/>\n",
              "    <path d=\"M18.56 5.44l.94 2.06.94-2.06 2.06-.94-2.06-.94-.94-2.06-.94 2.06-2.06.94zm-11 1L8.5 8.5l.94-2.06 2.06-.94-2.06-.94L8.5 2.5l-.94 2.06-2.06.94zm10 10l.94 2.06.94-2.06 2.06-.94-2.06-.94-.94-2.06-.94 2.06-2.06.94z\"/><path d=\"M17.41 7.96l-1.37-1.37c-.4-.4-.92-.59-1.43-.59-.52 0-1.04.2-1.43.59L10.3 9.45l-7.72 7.72c-.78.78-.78 2.05 0 2.83L4 21.41c.39.39.9.59 1.41.59.51 0 1.02-.2 1.41-.59l7.78-7.78 2.81-2.81c.8-.78.8-2.07 0-2.86zM5.41 20L4 18.59l7.72-7.72 1.47 1.35L5.41 20z\"/>\n",
              "  </svg>\n",
              "      </button>\n",
              "      \n",
              "  <style>\n",
              "    .colab-df-container {\n",
              "      display:flex;\n",
              "      flex-wrap:wrap;\n",
              "      gap: 12px;\n",
              "    }\n",
              "\n",
              "    .colab-df-convert {\n",
              "      background-color: #E8F0FE;\n",
              "      border: none;\n",
              "      border-radius: 50%;\n",
              "      cursor: pointer;\n",
              "      display: none;\n",
              "      fill: #1967D2;\n",
              "      height: 32px;\n",
              "      padding: 0 0 0 0;\n",
              "      width: 32px;\n",
              "    }\n",
              "\n",
              "    .colab-df-convert:hover {\n",
              "      background-color: #E2EBFA;\n",
              "      box-shadow: 0px 1px 2px rgba(60, 64, 67, 0.3), 0px 1px 3px 1px rgba(60, 64, 67, 0.15);\n",
              "      fill: #174EA6;\n",
              "    }\n",
              "\n",
              "    [theme=dark] .colab-df-convert {\n",
              "      background-color: #3B4455;\n",
              "      fill: #D2E3FC;\n",
              "    }\n",
              "\n",
              "    [theme=dark] .colab-df-convert:hover {\n",
              "      background-color: #434B5C;\n",
              "      box-shadow: 0px 1px 3px 1px rgba(0, 0, 0, 0.15);\n",
              "      filter: drop-shadow(0px 1px 2px rgba(0, 0, 0, 0.3));\n",
              "      fill: #FFFFFF;\n",
              "    }\n",
              "  </style>\n",
              "\n",
              "      <script>\n",
              "        const buttonEl =\n",
              "          document.querySelector('#df-210a8552-0cab-4b42-8714-82a8c81636b6 button.colab-df-convert');\n",
              "        buttonEl.style.display =\n",
              "          google.colab.kernel.accessAllowed ? 'block' : 'none';\n",
              "\n",
              "        async function convertToInteractive(key) {\n",
              "          const element = document.querySelector('#df-210a8552-0cab-4b42-8714-82a8c81636b6');\n",
              "          const dataTable =\n",
              "            await google.colab.kernel.invokeFunction('convertToInteractive',\n",
              "                                                     [key], {});\n",
              "          if (!dataTable) return;\n",
              "\n",
              "          const docLinkHtml = 'Like what you see? Visit the ' +\n",
              "            '<a target=\"_blank\" href=https://colab.research.google.com/notebooks/data_table.ipynb>data table notebook</a>'\n",
              "            + ' to learn more about interactive tables.';\n",
              "          element.innerHTML = '';\n",
              "          dataTable['output_type'] = 'display_data';\n",
              "          await google.colab.output.renderOutput(dataTable, element);\n",
              "          const docLink = document.createElement('div');\n",
              "          docLink.innerHTML = docLinkHtml;\n",
              "          element.appendChild(docLink);\n",
              "        }\n",
              "      </script>\n",
              "    </div>\n",
              "  </div>\n",
              "  "
            ]
          },
          "metadata": {},
          "execution_count": 6
        }
      ]
    },
    {
      "cell_type": "code",
      "source": [
        "df.isnull().sum()"
      ],
      "metadata": {
        "colab": {
          "base_uri": "https://localhost:8080/"
        },
        "id": "IvX0Z-Ro0RzE",
        "outputId": "3baa7736-960f-454d-8be2-0677bc6b0594"
      },
      "execution_count": 7,
      "outputs": [
        {
          "output_type": "execute_result",
          "data": {
            "text/plain": [
              "mean_radius        0\n",
              "mean_texture       0\n",
              "mean_perimeter     0\n",
              "mean_area          0\n",
              "mean_smoothness    0\n",
              "diagnosis          0\n",
              "dtype: int64"
            ]
          },
          "metadata": {},
          "execution_count": 7
        }
      ]
    },
    {
      "cell_type": "code",
      "source": [
        "df.describe()\n"
      ],
      "metadata": {
        "colab": {
          "base_uri": "https://localhost:8080/",
          "height": 300
        },
        "id": "mG0_pFTM0VIV",
        "outputId": "3c4b66ac-8214-4551-fa98-ee61ca3a10d9"
      },
      "execution_count": 8,
      "outputs": [
        {
          "output_type": "execute_result",
          "data": {
            "text/plain": [
              "       mean_radius  mean_texture  mean_perimeter    mean_area  \\\n",
              "count   569.000000    569.000000      569.000000   569.000000   \n",
              "mean     14.127292     19.289649       91.969033   654.889104   \n",
              "std       3.524049      4.301036       24.298981   351.914129   \n",
              "min       6.981000      9.710000       43.790000   143.500000   \n",
              "25%      11.700000     16.170000       75.170000   420.300000   \n",
              "50%      13.370000     18.840000       86.240000   551.100000   \n",
              "75%      15.780000     21.800000      104.100000   782.700000   \n",
              "max      28.110000     39.280000      188.500000  2501.000000   \n",
              "\n",
              "       mean_smoothness   diagnosis  \n",
              "count       569.000000  569.000000  \n",
              "mean          0.096360    0.627417  \n",
              "std           0.014064    0.483918  \n",
              "min           0.052630    0.000000  \n",
              "25%           0.086370    0.000000  \n",
              "50%           0.095870    1.000000  \n",
              "75%           0.105300    1.000000  \n",
              "max           0.163400    1.000000  "
            ],
            "text/html": [
              "\n",
              "  <div id=\"df-af9f91b4-47de-415c-88ca-1248c0312128\">\n",
              "    <div class=\"colab-df-container\">\n",
              "      <div>\n",
              "<style scoped>\n",
              "    .dataframe tbody tr th:only-of-type {\n",
              "        vertical-align: middle;\n",
              "    }\n",
              "\n",
              "    .dataframe tbody tr th {\n",
              "        vertical-align: top;\n",
              "    }\n",
              "\n",
              "    .dataframe thead th {\n",
              "        text-align: right;\n",
              "    }\n",
              "</style>\n",
              "<table border=\"1\" class=\"dataframe\">\n",
              "  <thead>\n",
              "    <tr style=\"text-align: right;\">\n",
              "      <th></th>\n",
              "      <th>mean_radius</th>\n",
              "      <th>mean_texture</th>\n",
              "      <th>mean_perimeter</th>\n",
              "      <th>mean_area</th>\n",
              "      <th>mean_smoothness</th>\n",
              "      <th>diagnosis</th>\n",
              "    </tr>\n",
              "  </thead>\n",
              "  <tbody>\n",
              "    <tr>\n",
              "      <th>count</th>\n",
              "      <td>569.000000</td>\n",
              "      <td>569.000000</td>\n",
              "      <td>569.000000</td>\n",
              "      <td>569.000000</td>\n",
              "      <td>569.000000</td>\n",
              "      <td>569.000000</td>\n",
              "    </tr>\n",
              "    <tr>\n",
              "      <th>mean</th>\n",
              "      <td>14.127292</td>\n",
              "      <td>19.289649</td>\n",
              "      <td>91.969033</td>\n",
              "      <td>654.889104</td>\n",
              "      <td>0.096360</td>\n",
              "      <td>0.627417</td>\n",
              "    </tr>\n",
              "    <tr>\n",
              "      <th>std</th>\n",
              "      <td>3.524049</td>\n",
              "      <td>4.301036</td>\n",
              "      <td>24.298981</td>\n",
              "      <td>351.914129</td>\n",
              "      <td>0.014064</td>\n",
              "      <td>0.483918</td>\n",
              "    </tr>\n",
              "    <tr>\n",
              "      <th>min</th>\n",
              "      <td>6.981000</td>\n",
              "      <td>9.710000</td>\n",
              "      <td>43.790000</td>\n",
              "      <td>143.500000</td>\n",
              "      <td>0.052630</td>\n",
              "      <td>0.000000</td>\n",
              "    </tr>\n",
              "    <tr>\n",
              "      <th>25%</th>\n",
              "      <td>11.700000</td>\n",
              "      <td>16.170000</td>\n",
              "      <td>75.170000</td>\n",
              "      <td>420.300000</td>\n",
              "      <td>0.086370</td>\n",
              "      <td>0.000000</td>\n",
              "    </tr>\n",
              "    <tr>\n",
              "      <th>50%</th>\n",
              "      <td>13.370000</td>\n",
              "      <td>18.840000</td>\n",
              "      <td>86.240000</td>\n",
              "      <td>551.100000</td>\n",
              "      <td>0.095870</td>\n",
              "      <td>1.000000</td>\n",
              "    </tr>\n",
              "    <tr>\n",
              "      <th>75%</th>\n",
              "      <td>15.780000</td>\n",
              "      <td>21.800000</td>\n",
              "      <td>104.100000</td>\n",
              "      <td>782.700000</td>\n",
              "      <td>0.105300</td>\n",
              "      <td>1.000000</td>\n",
              "    </tr>\n",
              "    <tr>\n",
              "      <th>max</th>\n",
              "      <td>28.110000</td>\n",
              "      <td>39.280000</td>\n",
              "      <td>188.500000</td>\n",
              "      <td>2501.000000</td>\n",
              "      <td>0.163400</td>\n",
              "      <td>1.000000</td>\n",
              "    </tr>\n",
              "  </tbody>\n",
              "</table>\n",
              "</div>\n",
              "      <button class=\"colab-df-convert\" onclick=\"convertToInteractive('df-af9f91b4-47de-415c-88ca-1248c0312128')\"\n",
              "              title=\"Convert this dataframe to an interactive table.\"\n",
              "              style=\"display:none;\">\n",
              "        \n",
              "  <svg xmlns=\"http://www.w3.org/2000/svg\" height=\"24px\"viewBox=\"0 0 24 24\"\n",
              "       width=\"24px\">\n",
              "    <path d=\"M0 0h24v24H0V0z\" fill=\"none\"/>\n",
              "    <path d=\"M18.56 5.44l.94 2.06.94-2.06 2.06-.94-2.06-.94-.94-2.06-.94 2.06-2.06.94zm-11 1L8.5 8.5l.94-2.06 2.06-.94-2.06-.94L8.5 2.5l-.94 2.06-2.06.94zm10 10l.94 2.06.94-2.06 2.06-.94-2.06-.94-.94-2.06-.94 2.06-2.06.94z\"/><path d=\"M17.41 7.96l-1.37-1.37c-.4-.4-.92-.59-1.43-.59-.52 0-1.04.2-1.43.59L10.3 9.45l-7.72 7.72c-.78.78-.78 2.05 0 2.83L4 21.41c.39.39.9.59 1.41.59.51 0 1.02-.2 1.41-.59l7.78-7.78 2.81-2.81c.8-.78.8-2.07 0-2.86zM5.41 20L4 18.59l7.72-7.72 1.47 1.35L5.41 20z\"/>\n",
              "  </svg>\n",
              "      </button>\n",
              "      \n",
              "  <style>\n",
              "    .colab-df-container {\n",
              "      display:flex;\n",
              "      flex-wrap:wrap;\n",
              "      gap: 12px;\n",
              "    }\n",
              "\n",
              "    .colab-df-convert {\n",
              "      background-color: #E8F0FE;\n",
              "      border: none;\n",
              "      border-radius: 50%;\n",
              "      cursor: pointer;\n",
              "      display: none;\n",
              "      fill: #1967D2;\n",
              "      height: 32px;\n",
              "      padding: 0 0 0 0;\n",
              "      width: 32px;\n",
              "    }\n",
              "\n",
              "    .colab-df-convert:hover {\n",
              "      background-color: #E2EBFA;\n",
              "      box-shadow: 0px 1px 2px rgba(60, 64, 67, 0.3), 0px 1px 3px 1px rgba(60, 64, 67, 0.15);\n",
              "      fill: #174EA6;\n",
              "    }\n",
              "\n",
              "    [theme=dark] .colab-df-convert {\n",
              "      background-color: #3B4455;\n",
              "      fill: #D2E3FC;\n",
              "    }\n",
              "\n",
              "    [theme=dark] .colab-df-convert:hover {\n",
              "      background-color: #434B5C;\n",
              "      box-shadow: 0px 1px 3px 1px rgba(0, 0, 0, 0.15);\n",
              "      filter: drop-shadow(0px 1px 2px rgba(0, 0, 0, 0.3));\n",
              "      fill: #FFFFFF;\n",
              "    }\n",
              "  </style>\n",
              "\n",
              "      <script>\n",
              "        const buttonEl =\n",
              "          document.querySelector('#df-af9f91b4-47de-415c-88ca-1248c0312128 button.colab-df-convert');\n",
              "        buttonEl.style.display =\n",
              "          google.colab.kernel.accessAllowed ? 'block' : 'none';\n",
              "\n",
              "        async function convertToInteractive(key) {\n",
              "          const element = document.querySelector('#df-af9f91b4-47de-415c-88ca-1248c0312128');\n",
              "          const dataTable =\n",
              "            await google.colab.kernel.invokeFunction('convertToInteractive',\n",
              "                                                     [key], {});\n",
              "          if (!dataTable) return;\n",
              "\n",
              "          const docLinkHtml = 'Like what you see? Visit the ' +\n",
              "            '<a target=\"_blank\" href=https://colab.research.google.com/notebooks/data_table.ipynb>data table notebook</a>'\n",
              "            + ' to learn more about interactive tables.';\n",
              "          element.innerHTML = '';\n",
              "          dataTable['output_type'] = 'display_data';\n",
              "          await google.colab.output.renderOutput(dataTable, element);\n",
              "          const docLink = document.createElement('div');\n",
              "          docLink.innerHTML = docLinkHtml;\n",
              "          element.appendChild(docLink);\n",
              "        }\n",
              "      </script>\n",
              "    </div>\n",
              "  </div>\n",
              "  "
            ]
          },
          "metadata": {},
          "execution_count": 8
        }
      ]
    },
    {
      "cell_type": "code",
      "source": [
        "sns.countplot(df['diagnosis']);"
      ],
      "metadata": {
        "colab": {
          "base_uri": "https://localhost:8080/",
          "height": 279
        },
        "id": "vXNJ4ZzC0brG",
        "outputId": "a4fed606-dee3-4362-eb72-1cbd0510c2e4"
      },
      "execution_count": 9,
      "outputs": [
        {
          "output_type": "display_data",
          "data": {
            "text/plain": [
              "<Figure size 432x288 with 1 Axes>"
            ],
            "image/png": "[encoded data removed]"
          },
          "metadata": {
            "needs_background": "light"
          }
        }
      ]
    },
    {
      "cell_type": "code",
      "source": [
        "plt.figure(figsize=(20,8))"
      ],
      "metadata": {
        "colab": {
          "base_uri": "https://localhost:8080/",
          "height": 52
        },
        "id": "2Wzl4Yz-3cMQ",
        "outputId": "9d182bbe-0fda-4fc9-f797-1bbcdf478578"
      },
      "execution_count": 10,
      "outputs": [
        {
          "output_type": "execute_result",
          "data": {
            "text/plain": [
              "<Figure size 1440x576 with 0 Axes>"
            ]
          },
          "metadata": {},
          "execution_count": 10
        },
        {
          "output_type": "display_data",
          "data": {
            "text/plain": [
              "<Figure size 1440x576 with 0 Axes>"
            ]
          },
          "metadata": {}
        }
      ]
    },
    {
      "cell_type": "code",
      "source": [
        "sns.countplot(df[\"mean_radius\"])"
      ],
      "metadata": {
        "colab": {
          "base_uri": "https://localhost:8080/",
          "height": 297
        },
        "id": "YkDGVkDu3e-k",
        "outputId": "70e51940-3723-4048-95f2-aa4a7bbc0861"
      },
      "execution_count": 11,
      "outputs": [
        {
          "output_type": "execute_result",
          "data": {
            "text/plain": [
              "<matplotlib.axes._subplots.AxesSubplot at 0x7f694c76fcd0>"
            ]
          },
          "metadata": {},
          "execution_count": 11
        },
        {
          "output_type": "display_data",
          "data": {
            "text/plain": [
              "<Figure size 432x288 with 1 Axes>"
            ],
            "image/png": "[encoded data removed]"
          },
          "metadata": {
            "needs_background": "light"
          }
        }
      ]
    },
    {
      "cell_type": "code",
      "source": [
        "sns.countplot(df[\"mean_perimeter\"])"
      ],
      "metadata": {
        "colab": {
          "base_uri": "https://localhost:8080/",
          "height": 297
        },
        "id": "marOJgPh3mfR",
        "outputId": "943ff2d6-1696-4f48-a0c2-808b59285465"
      },
      "execution_count": 12,
      "outputs": [
        {
          "output_type": "execute_result",
          "data": {
            "text/plain": [
              "<matplotlib.axes._subplots.AxesSubplot at 0x7f694bb9c650>"
            ]
          },
          "metadata": {},
          "execution_count": 12
        },
        {
          "output_type": "display_data",
          "data": {
            "text/plain": [
              "<Figure size 432x288 with 1 Axes>"
            ],
            "image/png": "[encoded data removed]"
          },
          "metadata": {
            "needs_background": "light"
          }
        }
      ]
    },
    {
      "cell_type": "code",
      "source": [
        "sns.countplot(df[\"mean_texture\"])"
      ],
      "metadata": {
        "colab": {
          "base_uri": "https://localhost:8080/",
          "height": 297
        },
        "id": "U93D4TG_3yP5",
        "outputId": "3e0172f3-c140-4877-b0a1-26368babc4e5"
      },
      "execution_count": 13,
      "outputs": [
        {
          "output_type": "execute_result",
          "data": {
            "text/plain": [
              "<matplotlib.axes._subplots.AxesSubplot at 0x7f694af4cb10>"
            ]
          },
          "metadata": {},
          "execution_count": 13
        },
        {
          "output_type": "display_data",
          "data": {
            "text/plain": [
              "<Figure size 432x288 with 1 Axes>"
            ],
            "image/png": "[encoded data removed]"
          },
          "metadata": {
            "needs_background": "light"
          }
        }
      ]
    },
    {
      "cell_type": "code",
      "source": [
        "plt.figure(figsize=(15,6))\n",
        "sns.heatmap(df)"
      ],
      "metadata": {
        "id": "7UFO0H400gFM",
        "colab": {
          "base_uri": "https://localhost:8080/",
          "height": 397
        },
        "outputId": "34f57fee-f9b4-4b95-eb34-cd3799ae16f9"
      },
      "execution_count": 14,
      "outputs": [
        {
          "output_type": "execute_result",
          "data": {
            "text/plain": [
              "<matplotlib.axes._subplots.AxesSubplot at 0x7f694a4457d0>"
            ]
          },
          "metadata": {},
          "execution_count": 14
        },
        {
          "output_type": "display_data",
          "data": {
            "text/plain": [
              "<Figure size 1080x432 with 2 Axes>"
            ],
            "image/png": "[encoded data removed]"
          },
          "metadata": {
            "needs_background": "light"
          }
        }
      ]
    },
    {
      "cell_type": "code",
      "source": [
        "df.corr()"
      ],
      "metadata": {
        "colab": {
          "base_uri": "https://localhost:8080/",
          "height": 238
        },
        "id": "qk2kiHKy39Na",
        "outputId": "ba6bec8e-f467-421f-8f43-cc8859dc8880"
      },
      "execution_count": 15,
      "outputs": [
        {
          "output_type": "execute_result",
          "data": {
            "text/plain": [
              "                 mean_radius  mean_texture  mean_perimeter  mean_area  \\\n",
              "mean_radius         1.000000      0.323782        0.997855   0.987357   \n",
              "mean_texture        0.323782      1.000000        0.329533   0.321086   \n",
              "mean_perimeter      0.997855      0.329533        1.000000   0.986507   \n",
              "mean_area           0.987357      0.321086        0.986507   1.000000   \n",
              "mean_smoothness     0.170581     -0.023389        0.207278   0.177028   \n",
              "diagnosis          -0.730029     -0.415185       -0.742636  -0.708984   \n",
              "\n",
              "                 mean_smoothness  diagnosis  \n",
              "mean_radius             0.170581  -0.730029  \n",
              "mean_texture           -0.023389  -0.415185  \n",
              "mean_perimeter          0.207278  -0.742636  \n",
              "mean_area               0.177028  -0.708984  \n",
              "mean_smoothness         1.000000  -0.358560  \n",
              "diagnosis              -0.358560   1.000000  "
            ],
            "text/html": [
              "\n",
              "  <div id=\"df-257ef944-6758-4663-bb95-83db369128bb\">\n",
              "    <div class=\"colab-df-container\">\n",
              "      <div>\n",
              "<style scoped>\n",
              "    .dataframe tbody tr th:only-of-type {\n",
              "        vertical-align: middle;\n",
              "    }\n",
              "\n",
              "    .dataframe tbody tr th {\n",
              "        vertical-align: top;\n",
              "    }\n",
              "\n",
              "    .dataframe thead th {\n",
              "        text-align: right;\n",
              "    }\n",
              "</style>\n",
              "<table border=\"1\" class=\"dataframe\">\n",
              "  <thead>\n",
              "    <tr style=\"text-align: right;\">\n",
              "      <th></th>\n",
              "      <th>mean_radius</th>\n",
              "      <th>mean_texture</th>\n",
              "      <th>mean_perimeter</th>\n",
              "      <th>mean_area</th>\n",
              "      <th>mean_smoothness</th>\n",
              "      <th>diagnosis</th>\n",
              "    </tr>\n",
              "  </thead>\n",
              "  <tbody>\n",
              "    <tr>\n",
              "      <th>mean_radius</th>\n",
              "      <td>1.000000</td>\n",
              "      <td>0.323782</td>\n",
              "      <td>0.997855</td>\n",
              "      <td>0.987357</td>\n",
              "      <td>0.170581</td>\n",
              "      <td>-0.730029</td>\n",
              "    </tr>\n",
              "    <tr>\n",
              "      <th>mean_texture</th>\n",
              "      <td>0.323782</td>\n",
              "      <td>1.000000</td>\n",
              "      <td>0.329533</td>\n",
              "      <td>0.321086</td>\n",
              "      <td>-0.023389</td>\n",
              "      <td>-0.415185</td>\n",
              "    </tr>\n",
              "    <tr>\n",
              "      <th>mean_perimeter</th>\n",
              "      <td>0.997855</td>\n",
              "      <td>0.329533</td>\n",
              "      <td>1.000000</td>\n",
              "      <td>0.986507</td>\n",
              "      <td>0.207278</td>\n",
              "      <td>-0.742636</td>\n",
              "    </tr>\n",
              "    <tr>\n",
              "      <th>mean_area</th>\n",
              "      <td>0.987357</td>\n",
              "      <td>0.321086</td>\n",
              "      <td>0.986507</td>\n",
              "      <td>1.000000</td>\n",
              "      <td>0.177028</td>\n",
              "      <td>-0.708984</td>\n",
              "    </tr>\n",
              "    <tr>\n",
              "      <th>mean_smoothness</th>\n",
              "      <td>0.170581</td>\n",
              "      <td>-0.023389</td>\n",
              "      <td>0.207278</td>\n",
              "      <td>0.177028</td>\n",
              "      <td>1.000000</td>\n",
              "      <td>-0.358560</td>\n",
              "    </tr>\n",
              "    <tr>\n",
              "      <th>diagnosis</th>\n",
              "      <td>-0.730029</td>\n",
              "      <td>-0.415185</td>\n",
              "      <td>-0.742636</td>\n",
              "      <td>-0.708984</td>\n",
              "      <td>-0.358560</td>\n",
              "      <td>1.000000</td>\n",
              "    </tr>\n",
              "  </tbody>\n",
              "</table>\n",
              "</div>\n",
              "      <button class=\"colab-df-convert\" onclick=\"convertToInteractive('df-257ef944-6758-4663-bb95-83db369128bb')\"\n",
              "              title=\"Convert this dataframe to an interactive table.\"\n",
              "              style=\"display:none;\">\n",
              "        \n",
              "  <svg xmlns=\"http://www.w3.org/2000/svg\" height=\"24px\"viewBox=\"0 0 24 24\"\n",
              "       width=\"24px\">\n",
              "    <path d=\"M0 0h24v24H0V0z\" fill=\"none\"/>\n",
              "    <path d=\"M18.56 5.44l.94 2.06.94-2.06 2.06-.94-2.06-.94-.94-2.06-.94 2.06-2.06.94zm-11 1L8.5 8.5l.94-2.06 2.06-.94-2.06-.94L8.5 2.5l-.94 2.06-2.06.94zm10 10l.94 2.06.94-2.06 2.06-.94-2.06-.94-.94-2.06-.94 2.06-2.06.94z\"/><path d=\"M17.41 7.96l-1.37-1.37c-.4-.4-.92-.59-1.43-.59-.52 0-1.04.2-1.43.59L10.3 9.45l-7.72 7.72c-.78.78-.78 2.05 0 2.83L4 21.41c.39.39.9.59 1.41.59.51 0 1.02-.2 1.41-.59l7.78-7.78 2.81-2.81c.8-.78.8-2.07 0-2.86zM5.41 20L4 18.59l7.72-7.72 1.47 1.35L5.41 20z\"/>\n",
              "  </svg>\n",
              "      </button>\n",
              "      \n",
              "  <style>\n",
              "    .colab-df-container {\n",
              "      display:flex;\n",
              "      flex-wrap:wrap;\n",
              "      gap: 12px;\n",
              "    }\n",
              "\n",
              "    .colab-df-convert {\n",
              "      background-color: #E8F0FE;\n",
              "      border: none;\n",
              "      border-radius: 50%;\n",
              "      cursor: pointer;\n",
              "      display: none;\n",
              "      fill: #1967D2;\n",
              "      height: 32px;\n",
              "      padding: 0 0 0 0;\n",
              "      width: 32px;\n",
              "    }\n",
              "\n",
              "    .colab-df-convert:hover {\n",
              "      background-color: #E2EBFA;\n",
              "      box-shadow: 0px 1px 2px rgba(60, 64, 67, 0.3), 0px 1px 3px 1px rgba(60, 64, 67, 0.15);\n",
              "      fill: #174EA6;\n",
              "    }\n",
              "\n",
              "    [theme=dark] .colab-df-convert {\n",
              "      background-color: #3B4455;\n",
              "      fill: #D2E3FC;\n",
              "    }\n",
              "\n",
              "    [theme=dark] .colab-df-convert:hover {\n",
              "      background-color: #434B5C;\n",
              "      box-shadow: 0px 1px 3px 1px rgba(0, 0, 0, 0.15);\n",
              "      filter: drop-shadow(0px 1px 2px rgba(0, 0, 0, 0.3));\n",
              "      fill: #FFFFFF;\n",
              "    }\n",
              "  </style>\n",
              "\n",
              "      <script>\n",
              "        const buttonEl =\n",
              "          document.querySelector('#df-257ef944-6758-4663-bb95-83db369128bb button.colab-df-convert');\n",
              "        buttonEl.style.display =\n",
              "          google.colab.kernel.accessAllowed ? 'block' : 'none';\n",
              "\n",
              "        async function convertToInteractive(key) {\n",
              "          const element = document.querySelector('#df-257ef944-6758-4663-bb95-83db369128bb');\n",
              "          const dataTable =\n",
              "            await google.colab.kernel.invokeFunction('convertToInteractive',\n",
              "                                                     [key], {});\n",
              "          if (!dataTable) return;\n",
              "\n",
              "          const docLinkHtml = 'Like what you see? Visit the ' +\n",
              "            '<a target=\"_blank\" href=https://colab.research.google.com/notebooks/data_table.ipynb>data table notebook</a>'\n",
              "            + ' to learn more about interactive tables.';\n",
              "          element.innerHTML = '';\n",
              "          dataTable['output_type'] = 'display_data';\n",
              "          await google.colab.output.renderOutput(dataTable, element);\n",
              "          const docLink = document.createElement('div');\n",
              "          docLink.innerHTML = docLinkHtml;\n",
              "          element.appendChild(docLink);\n",
              "        }\n",
              "      </script>\n",
              "    </div>\n",
              "  </div>\n",
              "  "
            ]
          },
          "metadata": {},
          "execution_count": 15
        }
      ]
    },
    {
      "cell_type": "code",
      "source": [
        "plt.figure(figsize=(15,15))\n",
        "sns.heatmap(df.corr(),annot=True,cmap=\"coolwarm\",linewidths=2)"
      ],
      "metadata": {
        "colab": {
          "base_uri": "https://localhost:8080/",
          "height": 885
        },
        "id": "qJoTALmI4CiM",
        "outputId": "53140204-f412-4446-d2aa-bef032490d74"
      },
      "execution_count": 16,
      "outputs": [
        {
          "output_type": "execute_result",
          "data": {
            "text/plain": [
              "<matplotlib.axes._subplots.AxesSubplot at 0x7f6947b92cd0>"
            ]
          },
          "metadata": {},
          "execution_count": 16
        },
        {
          "output_type": "display_data",
          "data": {
            "text/plain": [
              "<Figure size 1080x1080 with 2 Axes>"
            ],
            "image/png": "[encoded data removed]"
          },
          "metadata": {
            "needs_background": "light"
          }
        }
      ]
    },
    {
      "cell_type": "code",
      "source": [
        "data=df.drop([\"diagnosis\"],axis=1)\n",
        "print(\"The shape of f{data} is: \",data.shape)"
      ],
      "metadata": {
        "colab": {
          "base_uri": "https://localhost:8080/"
        },
        "id": "8OI19U6Z4MgT",
        "outputId": "7ac97a8e-c5a5-4cdc-ec0b-f2e79dc67613"
      },
      "execution_count": 18,
      "outputs": [
        {
          "output_type": "stream",
          "name": "stdout",
          "text": [
            "The shape of f{data} is:  (569, 5)\n"
          ]
        }
      ]
    },
    {
      "cell_type": "code",
      "source": [
        "plt.figure(figsize=(16,5))\n",
        "ax=sns.barplot(data.corrwith(df.diagnosis).index,data.corrwith(df.diagnosis))\n",
        "ax.tick_params(labelrotation=90)"
      ],
      "metadata": {
        "colab": {
          "base_uri": "https://localhost:8080/",
          "height": 407
        },
        "id": "PmfIOGFu4SEw",
        "outputId": "4a1ac836-ed39-4793-a48b-ec16d5eb16fe"
      },
      "execution_count": 19,
      "outputs": [
        {
          "output_type": "display_data",
          "data": {
            "text/plain": [
              "<Figure size 1152x360 with 1 Axes>"
            ],
            "image/png": "[encoded data removed]"
          },
          "metadata": {
            "needs_background": "light"
          }
        }
      ]
    },
    {
      "cell_type": "code",
      "source": [
        "data.corrwith(df.diagnosis).index"
      ],
      "metadata": {
        "colab": {
          "base_uri": "https://localhost:8080/"
        },
        "id": "2tiAl9dr4bP7",
        "outputId": "f5cf8cb6-3951-4d6f-864d-36fedcd4c7f5"
      },
      "execution_count": 20,
      "outputs": [
        {
          "output_type": "execute_result",
          "data": {
            "text/plain": [
              "Index(['mean_radius', 'mean_texture', 'mean_perimeter', 'mean_area',\n",
              "       'mean_smoothness'],\n",
              "      dtype='object')"
            ]
          },
          "metadata": {},
          "execution_count": 20
        }
      ]
    },
    {
      "cell_type": "code",
      "source": [
        "x=df.drop([\"diagnosis\"],axis=1)\n",
        "y=df[\"diagnosis\"]"
      ],
      "metadata": {
        "id": "xs98YNP14ejE"
      },
      "execution_count": 21,
      "outputs": []
    },
    {
      "cell_type": "code",
      "source": [
        "from sklearn.model_selection import train_test_split\n",
        "x_train,x_test,y_train,y_test=train_test_split(x,y,test_size=0.3,random_state=5)"
      ],
      "metadata": {
        "id": "hsQEVsWk0jBT"
      },
      "execution_count": 22,
      "outputs": []
    },
    {
      "cell_type": "code",
      "source": [
        "x_test"
      ],
      "metadata": {
        "colab": {
          "base_uri": "https://localhost:8080/",
          "height": 424
        },
        "id": "doq3opVT0mMZ",
        "outputId": "8d06523f-2611-4c56-accd-3967684b43b3"
      },
      "execution_count": 23,
      "outputs": [
        {
          "output_type": "execute_result",
          "data": {
            "text/plain": [
              "     mean_radius  mean_texture  mean_perimeter  mean_area  mean_smoothness\n",
              "28        15.300         25.27          102.40      732.4          0.10820\n",
              "163       12.340         22.22           79.85      464.5          0.10120\n",
              "123       14.500         10.89           94.28      640.7          0.11010\n",
              "361       13.300         21.57           85.24      546.1          0.08582\n",
              "549       10.820         24.21           68.89      361.6          0.08192\n",
              "..           ...           ...             ...        ...              ...\n",
              "447       14.800         17.66           95.88      674.8          0.09179\n",
              "98        11.600         12.84           74.34      412.6          0.08983\n",
              "448       14.530         19.34           94.25      659.7          0.08388\n",
              "381       11.040         14.93           70.67      372.7          0.07987\n",
              "467        9.668         18.10           61.06      286.3          0.08311\n",
              "\n",
              "[171 rows x 5 columns]"
            ],
            "text/html": [
              "\n",
              "  <div id=\"df-a9d7ea99-08bd-46a0-ab7f-7432e649bd35\">\n",
              "    <div class=\"colab-df-container\">\n",
              "      <div>\n",
              "<style scoped>\n",
              "    .dataframe tbody tr th:only-of-type {\n",
              "        vertical-align: middle;\n",
              "    }\n",
              "\n",
              "    .dataframe tbody tr th {\n",
              "        vertical-align: top;\n",
              "    }\n",
              "\n",
              "    .dataframe thead th {\n",
              "        text-align: right;\n",
              "    }\n",
              "</style>\n",
              "<table border=\"1\" class=\"dataframe\">\n",
              "  <thead>\n",
              "    <tr style=\"text-align: right;\">\n",
              "      <th></th>\n",
              "      <th>mean_radius</th>\n",
              "      <th>mean_texture</th>\n",
              "      <th>mean_perimeter</th>\n",
              "      <th>mean_area</th>\n",
              "      <th>mean_smoothness</th>\n",
              "    </tr>\n",
              "  </thead>\n",
              "  <tbody>\n",
              "    <tr>\n",
              "      <th>28</th>\n",
              "      <td>15.300</td>\n",
              "      <td>25.27</td>\n",
              "      <td>102.40</td>\n",
              "      <td>732.4</td>\n",
              "      <td>0.10820</td>\n",
              "    </tr>\n",
              "    <tr>\n",
              "      <th>163</th>\n",
              "      <td>12.340</td>\n",
              "      <td>22.22</td>\n",
              "      <td>79.85</td>\n",
              "      <td>464.5</td>\n",
              "      <td>0.10120</td>\n",
              "    </tr>\n",
              "    <tr>\n",
              "      <th>123</th>\n",
              "      <td>14.500</td>\n",
              "      <td>10.89</td>\n",
              "      <td>94.28</td>\n",
              "      <td>640.7</td>\n",
              "      <td>0.11010</td>\n",
              "    </tr>\n",
              "    <tr>\n",
              "      <th>361</th>\n",
              "      <td>13.300</td>\n",
              "      <td>21.57</td>\n",
              "      <td>85.24</td>\n",
              "      <td>546.1</td>\n",
              "      <td>0.08582</td>\n",
              "    </tr>\n",
              "    <tr>\n",
              "      <th>549</th>\n",
              "      <td>10.820</td>\n",
              "      <td>24.21</td>\n",
              "      <td>68.89</td>\n",
              "      <td>361.6</td>\n",
              "      <td>0.08192</td>\n",
              "    </tr>\n",
              "    <tr>\n",
              "      <th>...</th>\n",
              "      <td>...</td>\n",
              "      <td>...</td>\n",
              "      <td>...</td>\n",
              "      <td>...</td>\n",
              "      <td>...</td>\n",
              "    </tr>\n",
              "    <tr>\n",
              "      <th>447</th>\n",
              "      <td>14.800</td>\n",
              "      <td>17.66</td>\n",
              "      <td>95.88</td>\n",
              "      <td>674.8</td>\n",
              "      <td>0.09179</td>\n",
              "    </tr>\n",
              "    <tr>\n",
              "      <th>98</th>\n",
              "      <td>11.600</td>\n",
              "      <td>12.84</td>\n",
              "      <td>74.34</td>\n",
              "      <td>412.6</td>\n",
              "      <td>0.08983</td>\n",
              "    </tr>\n",
              "    <tr>\n",
              "      <th>448</th>\n",
              "      <td>14.530</td>\n",
              "      <td>19.34</td>\n",
              "      <td>94.25</td>\n",
              "      <td>659.7</td>\n",
              "      <td>0.08388</td>\n",
              "    </tr>\n",
              "    <tr>\n",
              "      <th>381</th>\n",
              "      <td>11.040</td>\n",
              "      <td>14.93</td>\n",
              "      <td>70.67</td>\n",
              "      <td>372.7</td>\n",
              "      <td>0.07987</td>\n",
              "    </tr>\n",
              "    <tr>\n",
              "      <th>467</th>\n",
              "      <td>9.668</td>\n",
              "      <td>18.10</td>\n",
              "      <td>61.06</td>\n",
              "      <td>286.3</td>\n",
              "      <td>0.08311</td>\n",
              "    </tr>\n",
              "  </tbody>\n",
              "</table>\n",
              "<p>171 rows × 5 columns</p>\n",
              "</div>\n",
              "      <button class=\"colab-df-convert\" onclick=\"convertToInteractive('df-a9d7ea99-08bd-46a0-ab7f-7432e649bd35')\"\n",
              "              title=\"Convert this dataframe to an interactive table.\"\n",
              "              style=\"display:none;\">\n",
              "        \n",
              "  <svg xmlns=\"http://www.w3.org/2000/svg\" height=\"24px\"viewBox=\"0 0 24 24\"\n",
              "       width=\"24px\">\n",
              "    <path d=\"M0 0h24v24H0V0z\" fill=\"none\"/>\n",
              "    <path d=\"M18.56 5.44l.94 2.06.94-2.06 2.06-.94-2.06-.94-.94-2.06-.94 2.06-2.06.94zm-11 1L8.5 8.5l.94-2.06 2.06-.94-2.06-.94L8.5 2.5l-.94 2.06-2.06.94zm10 10l.94 2.06.94-2.06 2.06-.94-2.06-.94-.94-2.06-.94 2.06-2.06.94z\"/><path d=\"M17.41 7.96l-1.37-1.37c-.4-.4-.92-.59-1.43-.59-.52 0-1.04.2-1.43.59L10.3 9.45l-7.72 7.72c-.78.78-.78 2.05 0 2.83L4 21.41c.39.39.9.59 1.41.59.51 0 1.02-.2 1.41-.59l7.78-7.78 2.81-2.81c.8-.78.8-2.07 0-2.86zM5.41 20L4 18.59l7.72-7.72 1.47 1.35L5.41 20z\"/>\n",
              "  </svg>\n",
              "      </button>\n",
              "      \n",
              "  <style>\n",
              "    .colab-df-container {\n",
              "      display:flex;\n",
              "      flex-wrap:wrap;\n",
              "      gap: 12px;\n",
              "    }\n",
              "\n",
              "    .colab-df-convert {\n",
              "      background-color: #E8F0FE;\n",
              "      border: none;\n",
              "      border-radius: 50%;\n",
              "      cursor: pointer;\n",
              "      display: none;\n",
              "      fill: #1967D2;\n",
              "      height: 32px;\n",
              "      padding: 0 0 0 0;\n",
              "      width: 32px;\n",
              "    }\n",
              "\n",
              "    .colab-df-convert:hover {\n",
              "      background-color: #E2EBFA;\n",
              "      box-shadow: 0px 1px 2px rgba(60, 64, 67, 0.3), 0px 1px 3px 1px rgba(60, 64, 67, 0.15);\n",
              "      fill: #174EA6;\n",
              "    }\n",
              "\n",
              "    [theme=dark] .colab-df-convert {\n",
              "      background-color: #3B4455;\n",
              "      fill: #D2E3FC;\n",
              "    }\n",
              "\n",
              "    [theme=dark] .colab-df-convert:hover {\n",
              "      background-color: #434B5C;\n",
              "      box-shadow: 0px 1px 3px 1px rgba(0, 0, 0, 0.15);\n",
              "      filter: drop-shadow(0px 1px 2px rgba(0, 0, 0, 0.3));\n",
              "      fill: #FFFFFF;\n",
              "    }\n",
              "  </style>\n",
              "\n",
              "      <script>\n",
              "        const buttonEl =\n",
              "          document.querySelector('#df-a9d7ea99-08bd-46a0-ab7f-7432e649bd35 button.colab-df-convert');\n",
              "        buttonEl.style.display =\n",
              "          google.colab.kernel.accessAllowed ? 'block' : 'none';\n",
              "\n",
              "        async function convertToInteractive(key) {\n",
              "          const element = document.querySelector('#df-a9d7ea99-08bd-46a0-ab7f-7432e649bd35');\n",
              "          const dataTable =\n",
              "            await google.colab.kernel.invokeFunction('convertToInteractive',\n",
              "                                                     [key], {});\n",
              "          if (!dataTable) return;\n",
              "\n",
              "          const docLinkHtml = 'Like what you see? Visit the ' +\n",
              "            '<a target=\"_blank\" href=https://colab.research.google.com/notebooks/data_table.ipynb>data table notebook</a>'\n",
              "            + ' to learn more about interactive tables.';\n",
              "          element.innerHTML = '';\n",
              "          dataTable['output_type'] = 'display_data';\n",
              "          await google.colab.output.renderOutput(dataTable, element);\n",
              "          const docLink = document.createElement('div');\n",
              "          docLink.innerHTML = docLinkHtml;\n",
              "          element.appendChild(docLink);\n",
              "        }\n",
              "      </script>\n",
              "    </div>\n",
              "  </div>\n",
              "  "
            ]
          },
          "metadata": {},
          "execution_count": 23
        }
      ]
    },
    {
      "cell_type": "code",
      "source": [
        "from sklearn.preprocessing import StandardScaler\n",
        "\n",
        "sc=StandardScaler()\n",
        "x_train_sc=sc.fit_transform(x_train)\n",
        "x_test_sc=sc.transform(x_test)"
      ],
      "metadata": {
        "id": "uHp6Q0LL0oIT"
      },
      "execution_count": 24,
      "outputs": []
    },
    {
      "cell_type": "code",
      "source": [
        "x_test_sc"
      ],
      "metadata": {
        "colab": {
          "base_uri": "https://localhost:8080/"
        },
        "id": "0Y7t6MBu48a0",
        "outputId": "ecce0718-25dd-4ace-c88c-93b357fada1f"
      },
      "execution_count": 25,
      "outputs": [
        {
          "output_type": "execute_result",
          "data": {
            "text/plain": [
              "array([[ 3.45321408e-01,  1.46339385e+00,  4.48815430e-01,\n",
              "         2.42940781e-01,  8.33644906e-01],\n",
              "       [-5.24643017e-01,  7.38714477e-01, -5.13174621e-01,\n",
              "        -5.64472944e-01,  3.33652503e-01],\n",
              "       [ 1.10195888e-01, -1.95329120e+00,  1.02413691e-01,\n",
              "        -3.34303973e-02,  9.69357129e-01],\n",
              "       [-2.42492393e-01,  5.84274611e-01, -2.83235536e-01,\n",
              "        -3.18541776e-01, -7.64902232e-01],\n",
              "       [-9.71381506e-01,  1.21153807e+00, -9.80731648e-01,\n",
              "        -8.74599381e-01, -1.04346943e+00],\n",
              "       [ 2.75829706e+00,  1.22579406e+00,  2.69701391e+00,\n",
              "         3.30080553e+00,  7.40789174e-01],\n",
              "       [-6.42205778e-01,  3.91818777e-01, -5.97642040e-01,\n",
              "        -6.35298710e-01, -7.48473910e-01],\n",
              "       [-8.77331298e-01, -1.19772385e+00, -8.80479913e-01,\n",
              "        -8.05280546e-01, -1.69917375e+00],\n",
              "       [ 1.66038199e-01, -1.21910783e+00,  2.70495323e-01,\n",
              "         1.29830829e-02,  4.69364727e-01],\n",
              "       [-2.21918910e-01, -6.46492326e-01, -2.46547667e-01,\n",
              "        -2.96239195e-01, -1.81274345e+00],\n",
              "       [-2.68944014e-01,  2.12629728e+00, -2.98593248e-01,\n",
              "        -3.41748516e-01, -7.01331769e-01],\n",
              "       [-7.15682503e-01,  1.26618602e+00, -6.61632509e-01,\n",
              "        -7.39578347e-01,  1.93362819e+00],\n",
              "       [ 1.90302798e+00,  2.42804902e+00,  2.05710922e+00,\n",
              "         1.84812387e+00,  1.51934877e+00],\n",
              "       [-1.12715216e+00,  2.01937737e+00, -1.11809785e+00,\n",
              "        -9.95756647e-01, -4.44907094e-01],\n",
              "       [ 2.01307027e-01, -1.04803598e+00,  1.18624610e-01,\n",
              "         8.71240969e-02, -8.43472466e-01],\n",
              "       [-8.45001539e-01, -1.02902800e+00, -8.74507469e-01,\n",
              "        -7.89005690e-01, -9.62042093e-01],\n",
              "       [-1.49776877e+00, -4.23148519e-01, -1.41160081e+00,\n",
              "        -1.20943949e+00,  7.19360928e-01],\n",
              "       [-5.36399294e-01, -7.62916225e-01, -5.56688140e-01,\n",
              "        -5.66884034e-01, -1.12346821e+00],\n",
              "       [-1.38196945e+00,  2.08352932e+00, -1.39155046e+00,\n",
              "        -1.14675115e+00, -1.09275439e+00],\n",
              "       [-3.68872360e-01,  1.01947027e-01, -3.92872539e-01,\n",
              "        -4.29753297e-01, -3.69193959e-01],\n",
              "       [ 6.24532964e-01,  9.48190336e-02,  7.64501743e-01,\n",
              "         4.94296901e-01,  4.33650984e-01],\n",
              "       [-6.42205778e-01, -2.06932706e-01, -6.89788315e-01,\n",
              "        -6.45545842e-01, -9.94184462e-01],\n",
              "       [-6.45144847e-01, -1.94853920e+00, -6.71444381e-01,\n",
              "        -6.30175144e-01, -5.57762522e-01],\n",
              "       [-4.59983499e-01, -9.72487602e-03, -4.24867774e-01,\n",
              "        -5.00277676e-01, -6.37761306e-01],\n",
              "       [-1.49394798e+00, -5.01168411e-02, -1.35699561e+00,\n",
              "        -1.22752266e+00,  2.25082725e-01],\n",
              "       [-1.37814866e+00, -1.87924722e-01, -1.36766068e+00,\n",
              "        -1.12474996e+00,  3.12224258e-01],\n",
              "       [-2.01345427e-01,  5.86650609e-01, -2.43134842e-01,\n",
              "        -2.67607502e-01, -1.06489767e+00],\n",
              "       [ 1.82661219e+00,  5.70018623e-01,  1.87793590e+00,\n",
              "         1.84511001e+00,  1.46220678e+00],\n",
              "       [ 2.18941441e-01,  2.61138890e-01,  1.80908666e-01,\n",
              "         8.77268693e-02, -4.70559971e-02],\n",
              "       [ 1.32990953e+00, -3.58996574e-01,  1.35748009e+00,\n",
              "         1.27850389e+00,  9.55071632e-01],\n",
              "       [ 3.41077038e+00, -3.92260545e-01,  3.51182588e+00,\n",
              "         4.09345133e+00,  1.31220906e+00],\n",
              "       [ 9.24318002e-01,  1.49903382e+00,  8.75418556e-01,\n",
              "         8.34863347e-01, -9.44185222e-01],\n",
              "       [ 8.66833357e-02,  1.56594980e-01,  1.10945753e-01,\n",
              "        -2.80054451e-02,  7.07993549e-02],\n",
              "       [ 8.59658484e-01, -7.34887807e-03,  9.18078869e-01,\n",
              "         7.32994800e-01,  1.25506707e+00],\n",
              "       [-9.00843850e-01, -4.73044476e-01, -8.80053310e-01,\n",
              "        -8.59831455e-01,  1.63363275e+00],\n",
              "       [-1.40842107e+00,  6.72186535e-01, -1.40221554e+00,\n",
              "        -1.16875235e+00, -2.94909374e-01],\n",
              "       [ 1.20352956e+00, -9.76368001e-02,  1.21243503e+00,\n",
              "         1.14890780e+00,  1.30506631e+00],\n",
              "       [-5.18764879e-01, -1.35652767e-01, -5.49009283e-01,\n",
              "        -5.57842447e-01, -8.39901092e-01],\n",
              "       [ 2.16002372e-01, -5.15812439e-01,  1.28436482e-01,\n",
              "         6.60270604e-02, -5.20620229e-01],\n",
              "       [ 2.22926464e+00, -4.42156502e-01,  2.09123747e+00,\n",
              "         2.69501919e+00, -1.92053794e-01],\n",
              "       [-6.24571364e-01,  2.16668924e+00, -6.44568384e-01,\n",
              "        -6.30777916e-01, -8.68472086e-01],\n",
              "       [-1.13173357e-01, -2.85340638e-01, -1.60373835e-01,\n",
              "        -2.01302530e-01, -1.22060959e+00],\n",
              "       [-1.33964685e+00, -7.60540227e-01, -1.35102316e+00,\n",
              "        -1.12173609e+00, -8.49186665e-01],\n",
              "       [ 1.55033970e+00, -2.21188693e-01,  1.50679118e+00,\n",
              "         1.48646039e+00,  5.12221218e-01],\n",
              "       [-6.68657399e-01, -3.92260545e-01, -6.97040568e-01,\n",
              "        -6.60313767e-01, -9.14899952e-01],\n",
              "       [-4.39410016e-01,  3.91818777e-01, -4.15055902e-01,\n",
              "        -5.16552533e-01,  2.00083105e-01],\n",
              "       [ 3.21808856e-01,  2.73455275e+00,  4.91475742e-01,\n",
              "         1.96225914e-01,  5.90791453e-01],\n",
              "       [ 1.27112815e+00,  6.65058541e-01,  1.20816899e+00,\n",
              "         1.27549002e+00, -1.59197150e-01],\n",
              "       [-6.09876019e-01,  8.57514375e-01, -5.60100965e-01,\n",
              "        -6.14804446e-01, -1.94131293e+00],\n",
              "       [ 3.90747304e+00,  1.70099365e+00,  4.05361185e+00,\n",
              "         5.57325774e+00,  8.47930403e-01],\n",
              "       [ 1.42525647e-01, -8.12812182e-01,  3.41571905e-02,\n",
              "         3.95050717e-02, -1.45346320e+00],\n",
              "       [-4.89374189e-01, -1.49234759e+00, -5.56688140e-01,\n",
              "        -5.25895506e-01, -1.62917481e+00],\n",
              "       [-6.06936950e-01, -5.01168411e-02, -6.49261018e-01,\n",
              "        -6.22339101e-01, -9.04900104e-01],\n",
              "       [-1.36685909e-01,  4.53111166e-03, -1.03209016e-01,\n",
              "        -2.30536995e-01, -4.25621673e-01],\n",
              "       [-1.48442185e-01,  9.78690270e-01, -2.00047926e-01,\n",
              "        -2.36866106e-01, -2.90623724e-01],\n",
              "       [ 1.99707819e+00,  1.42062589e+00,  2.18082412e+00,\n",
              "         2.09526058e+00,  9.55071632e-01],\n",
              "       [ 3.92346512e-01,  1.14976212e+00,  5.08539867e-01,\n",
              "         2.39625532e-01,  1.55506251e+00],\n",
              "       [ 4.01163719e-01,  2.04114939e-01,  4.48815430e-01,\n",
              "         2.80011288e-01,  1.39077930e+00],\n",
              "       [-7.09804365e-01, -4.56412490e-01, -7.33728437e-01,\n",
              "        -6.97685660e-01,  8.65134018e-02],\n",
              "       [ 5.71629722e-01,  1.28083005e-01,  5.21337961e-01,\n",
              "         5.00023239e-01, -3.46337164e-01],\n",
              "       [ 7.27400379e-01,  2.13104927e+00,  7.00511274e-01,\n",
              "         6.21783279e-01, -8.55615139e-01],\n",
              "       [-8.96608046e-02,  1.27806601e+00,  1.92260811e-02,\n",
              "        -1.68451431e-01,  1.40506479e+00],\n",
              "       [-1.36962536e+00,  4.51218726e-01, -1.35528919e+00,\n",
              "        -1.15247749e+00,  5.62220459e-01],\n",
              "       [-5.30521156e-01, -1.59689150e+00, -5.55834933e-01,\n",
              "        -5.65678489e-01,  4.47936481e-01],\n",
              "       [-6.24571364e-01, -8.22316174e-01, -6.36889528e-01,\n",
              "        -6.28366826e-01,  5.00853839e-02],\n",
              "       [ 3.96582316e-02, -2.23564691e-01, -2.81268659e-02,\n",
              "        -5.63357512e-02, -2.19773760e+00],\n",
              "       [-7.21560641e-01,  2.15994929e-01, -7.11118472e-01,\n",
              "        -7.10042496e-01,  3.62223498e-01],\n",
              "       [-1.00371127e+00,  3.03906853e-01, -9.54708857e-01,\n",
              "        -9.24930882e-01,  8.33644906e-01],\n",
              "       [-6.95109020e-01, -2.30692685e-01, -7.20077137e-01,\n",
              "        -6.65135947e-01,  2.25082725e-01],\n",
              "       [ 1.77958708e+00,  1.01947027e-01,  1.78834925e+00,\n",
              "         1.80291594e+00,  1.19792508e+00],\n",
              "       [-1.04485823e+00, -1.87924722e-01, -1.06903849e+00,\n",
              "        -9.36986331e-01, -1.07918317e+00],\n",
              "       [ 1.48274111e+00,  1.35172195e+00,  1.72862481e+00,\n",
              "         1.42015542e+00,  6.22280565e-02],\n",
              "       [-7.00987158e-01, -1.05041198e+00, -6.64192128e-01,\n",
              "        -6.80506645e-01, -1.10989699e+00],\n",
              "       [-2.68944014e-01,  1.45864186e+00, -3.31868292e-01,\n",
              "        -3.43255447e-01, -6.15618786e-01],\n",
              "       [-4.42349085e-01,  1.15451412e+00, -4.49184152e-01,\n",
              "        -4.68330735e-01, -1.24989486e+00],\n",
              "       [-5.77546260e-01, -2.56828662e-01, -5.79724709e-01,\n",
              "        -5.92200478e-01, -4.04193427e-01],\n",
              "       [-8.94965712e-01, -6.67488267e-02, -7.92599669e-01,\n",
              "        -8.74599381e-01,  1.79077322e+00],\n",
              "       [-7.00987158e-01, -1.20960384e+00, -7.52498975e-01,\n",
              "        -6.76588624e-01, -1.31417960e+00],\n",
              "       [ 1.66496339e+00,  1.42775388e+00,  1.64330418e+00,\n",
              "         1.62811192e+00,  3.55080749e-01],\n",
              "       [ 6.27472033e-01,  6.57930547e-01,  6.66383024e-01,\n",
              "         5.27449387e-01,  1.42649304e+00],\n",
              "       [ 2.67012499e+00,  1.86731350e+00,  2.62875741e+00,\n",
              "         3.06873812e+00, -1.02769436e-01],\n",
              "       [-1.42564047e-01, -6.58372316e-01, -1.99194720e-01,\n",
              "        -2.41085514e-01, -1.40560678e+00],\n",
              "       [ 4.77579513e-01,  2.70642882e-01,  4.57347492e-01,\n",
              "         3.30041403e-01,  4.26508235e-01],\n",
              "       [ 5.98081343e-01,  5.77146617e-01,  6.10924618e-01,\n",
              "         4.76213727e-01,  3.05081509e-01],\n",
              "       [-1.21990564e-01,  4.08450763e-01, -7.16403848e-02,\n",
              "        -2.22700953e-01,  1.59791901e+00],\n",
              "       [-5.51094639e-01, -2.78212644e-01, -5.80577915e-01,\n",
              "        -5.77131166e-01, -7.13474442e-01],\n",
              "       [ 1.49449739e+00, -1.28524773e-01,  1.43426865e+00,\n",
              "         1.50755742e+00,  6.26505196e-01],\n",
              "       [-1.73583335e+00,  3.77562789e-01, -1.64708573e+00,\n",
              "        -1.34988547e+00, -1.77054022e-01],\n",
              "       [-9.25998736e-02,  1.10224216e+00, -1.36223596e-02,\n",
              "        -1.62725092e-01,  2.55504732e+00],\n",
              "       [ 5.89264136e-01, -2.92468632e-01,  6.45052868e-01,\n",
              "         4.68377685e-01,  5.33649464e-01],\n",
              "       [ 4.04102788e-01,  4.67850711e-01,  4.70145586e-01,\n",
              "         4.56020849e-01,  1.10506935e+00],\n",
              "       [ 1.45335042e+00,  1.35409795e+00,  1.55371753e+00,\n",
              "         1.36289203e+00, -4.08479076e-01],\n",
              "       [ 1.19013095e-01, -1.21910783e+00,  8.44963595e-02,\n",
              "        -2.28818791e-02,  9.55071632e-01],\n",
              "       [ 2.68905614e-01, -5.63332398e-01,  2.92252082e-01,\n",
              "         1.13344699e-01,  1.64369362e-01],\n",
              "       [ 4.51127892e-01,  9.71562276e-01,  7.81565868e-01,\n",
              "         3.66810523e-01,  1.02649912e+00],\n",
              "       [ 2.31743671e+00,  6.62682543e-01,  2.35999744e+00,\n",
              "         2.50213200e+00,  6.97932682e-01],\n",
              "       [-7.59768538e-01, -1.99368316e+00, -7.74255734e-01,\n",
              "        -7.31440919e-01, -7.54188109e-01],\n",
              "       [-1.07130985e+00, -9.81508036e-01, -1.04045609e+00,\n",
              "        -9.58987526e-01,  1.16512946e-01],\n",
              "       [-1.28938877e+00, -1.69668342e+00, -1.30708304e+00,\n",
              "        -1.09491272e+00, -2.87766625e-01],\n",
              "       [-8.39123401e-01, -8.57956143e-01, -7.89186844e-01,\n",
              "        -7.82977965e-01, -9.19899876e-01],\n",
              "       [-1.52098741e+00, -7.96180196e-01, -1.41373382e+00,\n",
              "        -1.22541296e+00, -1.36340355e-01],\n",
              "       [ 1.48568018e+00,  8.02866422e-01,  1.51958928e+00,\n",
              "         1.49550198e+00, -8.07044448e-01],\n",
              "       [-5.51094639e-01,  7.90986432e-01, -5.84417343e-01,\n",
              "        -5.58445220e-01, -1.04346943e+00],\n",
              "       [-6.95109020e-01,  5.91402605e-01, -7.32022025e-01,\n",
              "        -6.74780306e-01, -7.25617114e-01],\n",
              "       [ 9.55005427e-02,  2.63514888e-01,  1.11372356e-01,\n",
              "        -2.74026726e-02,  1.56512338e-01],\n",
              "       [ 1.78546522e+00,  1.83404953e+00,  1.78408322e+00,\n",
              "         1.75469414e+00,  1.80083408e-01],\n",
              "       [-2.18979841e-01,  2.75831273e+00, -2.36309192e-01,\n",
              "        -2.85087904e-01, -2.91337999e-01],\n",
              "       [ 1.60618201e+00, -2.28316687e-01,  1.65610228e+00,\n",
              "         1.69441689e+00,  1.10506935e+00],\n",
              "       [-3.48298877e-01, -6.98764281e-01, -3.71115780e-01,\n",
              "        -4.34575477e-01,  1.61512262e-01],\n",
              "       [ 2.95357235e-01,  2.54209692e+00,  2.06078251e-01,\n",
              "         2.04061956e-01, -9.52042245e-01],\n",
              "       [-8.18549918e-01, -1.19020782e-01, -8.15636238e-01,\n",
              "        -7.85389055e-01,  5.97934202e-01],\n",
              "       [ 1.22998118e+00, -1.26148775e-01,  1.13991249e+00,\n",
              "         1.17301870e+00, -7.60616582e-01],\n",
              "       [-7.95037366e-01,  3.01530855e-01, -6.10013531e-01,\n",
              "        -8.00759753e-01,  3.28360768e+00],\n",
              "       [ 9.47830554e-01,  9.38298305e-01,  8.15694118e-01,\n",
              "         8.47822955e-01, -7.07760243e-01],\n",
              "       [-2.71883083e-01, -7.81924209e-01, -3.33148101e-01,\n",
              "        -3.45063765e-01, -8.15615747e-01],\n",
              "       [-8.12671780e-01, -3.66124568e-01, -8.27154522e-01,\n",
              "        -7.59469839e-01, -5.67762370e-01],\n",
              "       [ 1.16238259e+00,  6.48426555e-01,  1.08872012e+00,\n",
              "         1.12178304e+00, -1.62988909e+00],\n",
              "       [-1.04485823e+00,  2.63514888e-01, -9.26979654e-01,\n",
              "        -9.44822373e-01, -4.14193275e-01],\n",
              "       [ 1.55033970e+00,  1.04284221e+00,  1.58784578e+00,\n",
              "         1.51659901e+00,  4.40793732e-01],\n",
              "       [-1.06249265e+00,  9.45426299e-01, -1.06775869e+00,\n",
              "        -9.57179209e-01,  3.55080749e-01],\n",
              "       [-4.01202119e-01, -1.36404371e+00, -4.09083458e-01,\n",
              "        -4.45123995e-01, -6.13475961e-01],\n",
              "       [-3.36542601e-01,  5.68030665e-02, -3.13950961e-01,\n",
              "        -4.15286758e-01, -5.27701960e-02],\n",
              "       [ 1.20352956e+00, -5.72448350e-02,  1.14417853e+00,\n",
              "         1.13082463e+00,  6.65137057e-02],\n",
              "       [-1.32818448e+00, -5.39572418e-01, -1.29001891e+00,\n",
              "        -1.11902362e+00, -8.37043992e-01],\n",
              "       [ 1.04481983e+00,  3.87066781e-01,  1.08872012e+00,\n",
              "         9.40047143e-01,  1.06935561e+00],\n",
              "       [-1.53920964e+00, -1.06229197e+00, -1.41160081e+00,\n",
              "        -1.22902959e+00,  9.29418755e-02],\n",
              "       [ 1.66790246e+00,  5.81898613e-01,  1.61344197e+00,\n",
              "         1.74263869e+00, -1.92768069e-01],\n",
              "       [-7.09804365e-01, -8.69836133e-01, -7.18797328e-01,\n",
              "        -6.97685660e-01,  1.31935181e+00],\n",
              "       [-3.62994222e-01, -1.18821986e+00, -2.95607026e-01,\n",
              "        -4.20711710e-01, -6.37761306e-01],\n",
              "       [ 4.11026880e+00, -1.52284753e-01,  4.12186835e+00,\n",
              "         5.56723002e+00,  1.26220982e+00],\n",
              "       [-7.68585745e-01,  1.14501013e+00, -7.40554087e-01,\n",
              "        -7.48318548e-01, -2.79909602e-01],\n",
              "       [-1.24060023e+00, -2.49700669e-01, -1.16374439e+00,\n",
              "        -1.05302003e+00,  3.29427873e-02],\n",
              "       [-7.39195055e-01, -7.34404250e-01, -7.00453393e-01,\n",
              "        -7.34153395e-01,  8.76501397e-01],\n",
              "       [-1.02134568e+00,  1.45151386e+00, -1.01827272e+00,\n",
              "        -9.18601771e-01,  2.94324314e-03],\n",
              "       [-8.53818746e-01,  3.49249610e+00, -8.99677053e-01,\n",
              "        -7.98650049e-01, -1.33775067e+00],\n",
              "       [ 1.14768725e+00, -5.37196420e-01,  1.09298615e+00,\n",
              "         1.01931172e+00, -5.04191908e-01],\n",
              "       [-5.09947672e-01, -3.87508550e-01, -4.79472974e-01,\n",
              "        -5.69295124e-01,  5.47934962e-01],\n",
              "       [-8.08435976e-02, -9.33988077e-01, -1.23259363e-01,\n",
              "        -1.94069261e-01, -9.77695122e-02],\n",
              "       [-2.83639359e-01,  3.39546822e-01, -3.33574705e-01,\n",
              "        -3.40844358e-01, -1.65560298e+00],\n",
              "       [-5.71668122e-01, -1.19534785e+00, -6.24091434e-01,\n",
              "        -5.73815918e-01, -1.37060731e+00],\n",
              "       [-1.21990564e-01, -1.02388796e-01, -1.34351044e-01,\n",
              "        -2.43496603e-01,  1.87940432e-01],\n",
              "       [ 1.45464716e-01,  1.16639411e+00,  1.14785181e-01,\n",
              "         3.28745745e-02, -4.84906486e-01],\n",
              "       [-7.36255986e-01, -2.21188693e-01, -6.61205906e-01,\n",
              "        -7.32345077e-01,  1.49792053e+00],\n",
              "       [ 1.91478426e+00, -4.18396523e-01,  1.83100956e+00,\n",
              "         2.05909424e+00, -1.47768752e-01],\n",
              "       [-8.09732711e-01, -5.24928391e-02, -8.40805822e-01,\n",
              "        -7.70922516e-01, -6.71332225e-01],\n",
              "       [-2.98334704e-01,  8.14746412e-01, -2.07300179e-01,\n",
              "        -3.68873277e-01,  2.62225017e-01],\n",
              "       [-1.42752502e+00, -1.48284360e+00, -1.29641796e+00,\n",
              "        -1.21486444e+00,  4.77644213e+00],\n",
              "       [ 1.90008891e+00,  5.05866678e-01,  1.95899050e+00,\n",
              "         2.01388630e+00,  8.55073151e-01],\n",
              "       [-9.77259644e-01,  6.81690527e-01, -9.84997679e-01,\n",
              "        -8.79722947e-01, -6.08476037e-01],\n",
              "       [-3.86506774e-01, -1.43769964e+00, -4.51743771e-01,\n",
              "        -4.30958842e-01, -6.52761079e-01],\n",
              "       [-8.42062470e-01,  2.01738941e-01, -7.74682337e-01,\n",
              "        -7.76648854e-01, -1.16632470e+00],\n",
              "       [-2.48370531e-01,  2.77770876e-01, -1.94502085e-01,\n",
              "        -3.21254252e-01,  5.40792213e-01],\n",
              "       [-3.57116084e-01, -6.60748313e-01, -3.98844983e-01,\n",
              "        -4.08053488e-01, -1.22275242e+00],\n",
              "       [-3.30664463e-01,  1.43012988e+00, -3.95432158e-01,\n",
              "        -3.96600811e-01, -9.17042777e-01],\n",
              "       [-6.15754157e-01, -2.80588642e-01, -6.73577396e-01,\n",
              "        -6.20229398e-01, -1.40703533e+00],\n",
              "       [ 1.58854760e+00,  3.17411237e+00,  1.54091943e+00,\n",
              "         1.72154165e+00, -8.80614759e-01],\n",
              "       [-1.11833496e+00, -6.55996318e-01, -1.13345557e+00,\n",
              "        -9.85208129e-01, -1.56340051e-01],\n",
              "       [-1.86650082e-01,  7.57722461e-01, -2.11992813e-01,\n",
              "        -2.73635227e-01, -6.43475505e-01],\n",
              "       [ 1.51342854e-01, -9.19732090e-01,  1.65977557e-01,\n",
              "         3.24861043e-04,  1.19078234e+00],\n",
              "       [ 1.33708440e-01, -1.29513977e+00,  1.02840294e-01,\n",
              "         2.11205113e-02,  1.27941344e-01],\n",
              "       [-6.53962054e-01, -1.05991597e+00, -5.87403565e-01,\n",
              "        -6.60012381e-01,  1.33363731e+00],\n",
              "       [-1.25735292e+00, -8.15188180e-01, -1.23200089e+00,\n",
              "        -1.08074757e+00, -1.14912109e-01],\n",
              "       [-1.13596937e+00, -1.04565998e+00, -1.09548789e+00,\n",
              "        -9.95153875e-01,  1.63655087e-01],\n",
              "       [-1.13596937e+00, -1.63728347e+00, -1.11468503e+00,\n",
              "        -9.95153875e-01,  2.45082421e-01],\n",
              "       [ 1.51213180e+00,  1.74851360e+00,  1.53665340e+00,\n",
              "         1.53769605e+00, -1.79911121e-01],\n",
              "       [ 1.75313546e+00,  1.12837814e+00,  1.82674353e+00,\n",
              "         1.79387435e+00,  8.19359408e-01],\n",
              "       [ 1.98367958e-01, -3.44740587e-01,  1.70670191e-01,\n",
              "         6.93423090e-02, -3.38480140e-01],\n",
              "       [-7.42134124e-01, -1.48997160e+00, -7.48232944e-01,\n",
              "        -7.20892400e-01, -4.78478013e-01],\n",
              "       [ 1.19013095e-01,  5.44270685e-02,  1.01133881e-01,\n",
              "         2.38329874e-02, -9.03471554e-01],\n",
              "       [-9.06721988e-01, -9.93388026e-01, -9.04796291e-01,\n",
              "        -8.41145508e-01, -1.18989577e+00],\n",
              "       [-1.30996226e+00, -2.40196677e-01, -1.31476190e+00,\n",
              "        -1.10154322e+00, -9.58470719e-01]])"
            ]
          },
          "metadata": {},
          "execution_count": 25
        }
      ]
    },
    {
      "cell_type": "code",
      "source": [
        "from sklearn.metrics import confusion_matrix,classification_report,accuracy_score\n",
        "from sklearn.ensemble import RandomForestClassifier\n",
        "\n",
        "forest=RandomForestClassifier()\n",
        "forest.fit(x_train,y_train)"
      ],
      "metadata": {
        "colab": {
          "base_uri": "https://localhost:8080/"
        },
        "id": "jjQ12J1o0tWr",
        "outputId": "0fb66def-614a-4370-9e2b-1d5b79bc6e97"
      },
      "execution_count": 26,
      "outputs": [
        {
          "output_type": "execute_result",
          "data": {
            "text/plain": [
              "RandomForestClassifier()"
            ]
          },
          "metadata": {},
          "execution_count": 26
        }
      ]
    },
    {
      "cell_type": "code",
      "source": [
        "prediction_rf=forest.predict(x_test)\n",
        "prediction_rf"
      ],
      "metadata": {
        "colab": {
          "base_uri": "https://localhost:8080/"
        },
        "id": "7MIcHV9402ik",
        "outputId": "a81c1cfa-6aed-483f-e4b5-8f17fbaa62eb"
      },
      "execution_count": 27,
      "outputs": [
        {
          "output_type": "execute_result",
          "data": {
            "text/plain": [
              "array([0, 1, 1, 1, 1, 0, 1, 1, 1, 1, 1, 1, 0, 1, 1, 1, 1, 1, 1, 1, 0, 1,\n",
              "       1, 1, 1, 1, 1, 0, 0, 0, 0, 0, 1, 0, 1, 1, 0, 1, 1, 0, 1, 1, 1, 0,\n",
              "       1, 1, 0, 0, 1, 0, 1, 1, 1, 1, 0, 0, 0, 0, 1, 0, 0, 0, 1, 1, 1, 1,\n",
              "       1, 1, 1, 0, 1, 0, 1, 1, 1, 1, 1, 1, 0, 0, 0, 1, 0, 0, 0, 1, 0, 1,\n",
              "       0, 0, 0, 0, 1, 0, 0, 0, 1, 1, 1, 1, 1, 0, 1, 1, 0, 0, 0, 0, 1, 0,\n",
              "       1, 0, 1, 0, 1, 1, 0, 1, 0, 1, 1, 1, 0, 1, 0, 1, 0, 1, 1, 0, 1, 1,\n",
              "       1, 1, 1, 0, 1, 1, 1, 1, 1, 0, 1, 0, 1, 0, 1, 0, 1, 1, 1, 1, 1, 1,\n",
              "       1, 0, 1, 1, 1, 1, 1, 1, 1, 1, 0, 0, 1, 1, 1, 1, 1])"
            ]
          },
          "metadata": {},
          "execution_count": 27
        }
      ]
    },
    {
      "cell_type": "code",
      "source": [
        "accuracy_score(prediction_rf,y_test)"
      ],
      "metadata": {
        "colab": {
          "base_uri": "https://localhost:8080/"
        },
        "id": "__UCGcIX09Wr",
        "outputId": "68aab13f-89d4-4d71-8229-a3227ca0c0df"
      },
      "execution_count": 28,
      "outputs": [
        {
          "output_type": "execute_result",
          "data": {
            "text/plain": [
              "0.9298245614035088"
            ]
          },
          "metadata": {},
          "execution_count": 28
        }
      ]
    },
    {
      "cell_type": "markdown",
      "source": [
        "Saving Trained Model"
      ],
      "metadata": {
        "id": "sw4Ppdhj1EAE"
      }
    },
    {
      "cell_type": "code",
      "source": [
        "# saving model\n",
        "import pickle\n",
        "\n",
        "with open(\"model4\",\"wb\") as f:\n",
        "    pickle.dump(forest,f)"
      ],
      "metadata": {
        "id": "FaoH2Gym1GI4"
      },
      "execution_count": 29,
      "outputs": []
    },
    {
      "cell_type": "code",
      "source": [
        "# loading saved model\n",
        "with open(\"model4\",\"rb\") as f:\n",
        "    m4=pickle.load(f)"
      ],
      "metadata": {
        "id": "ACFwffo61NAI"
      },
      "execution_count": 30,
      "outputs": []
    },
    {
      "cell_type": "code",
      "source": [
        "m4.predict(x_test)"
      ],
      "metadata": {
        "colab": {
          "base_uri": "https://localhost:8080/"
        },
        "id": "d-0XCl4q1WuZ",
        "outputId": "d7d536a5-7747-4781-c275-0747c7a03436"
      },
      "execution_count": 31,
      "outputs": [
        {
          "output_type": "execute_result",
          "data": {
            "text/plain": [
              "array([0, 1, 1, 1, 1, 0, 1, 1, 1, 1, 1, 1, 0, 1, 1, 1, 1, 1, 1, 1, 0, 1,\n",
              "       1, 1, 1, 1, 1, 0, 0, 0, 0, 0, 1, 0, 1, 1, 0, 1, 1, 0, 1, 1, 1, 0,\n",
              "       1, 1, 0, 0, 1, 0, 1, 1, 1, 1, 0, 0, 0, 0, 1, 0, 0, 0, 1, 1, 1, 1,\n",
              "       1, 1, 1, 0, 1, 0, 1, 1, 1, 1, 1, 1, 0, 0, 0, 1, 0, 0, 0, 1, 0, 1,\n",
              "       0, 0, 0, 0, 1, 0, 0, 0, 1, 1, 1, 1, 1, 0, 1, 1, 0, 0, 0, 0, 1, 0,\n",
              "       1, 0, 1, 0, 1, 1, 0, 1, 0, 1, 1, 1, 0, 1, 0, 1, 0, 1, 1, 0, 1, 1,\n",
              "       1, 1, 1, 0, 1, 1, 1, 1, 1, 0, 1, 0, 1, 0, 1, 0, 1, 1, 1, 1, 1, 1,\n",
              "       1, 0, 1, 1, 1, 1, 1, 1, 1, 1, 0, 0, 1, 1, 1, 1, 1])"
            ]
          },
          "metadata": {},
          "execution_count": 31
        }
      ]
    }
  ]
}